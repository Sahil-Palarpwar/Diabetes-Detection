{
 "cells": [
  {
   "cell_type": "code",
   "execution_count": 26,
   "metadata": {},
   "outputs": [],
   "source": [
    "# Importing the libraries\n",
    "import numpy as np\n",
    "import matplotlib.pyplot as plt\n",
    "import pandas as pd\n",
    "from sklearn.ensemble import GradientBoostingClassifier\n",
    "from sklearn.model_selection import train_test_split, cross_val_score\n",
    "from sklearn.model_selection import GridSearchCV\n",
    "from sklearn.metrics import accuracy_score, roc_auc_score, roc_curve"
   ]
  },
  {
   "cell_type": "code",
   "execution_count": 27,
   "metadata": {},
   "outputs": [],
   "source": [
    "# Importing the dataset\n",
    "dataset = pd.read_csv('prima_data.csv')\n",
    "X = dataset.iloc[:, :-1].values\n",
    "y = dataset.iloc[:, 8].values"
   ]
  },
  {
   "cell_type": "code",
   "execution_count": 28,
   "metadata": {},
   "outputs": [
    {
     "data": {
      "text/html": [
       "<div>\n",
       "<style scoped>\n",
       "    .dataframe tbody tr th:only-of-type {\n",
       "        vertical-align: middle;\n",
       "    }\n",
       "\n",
       "    .dataframe tbody tr th {\n",
       "        vertical-align: top;\n",
       "    }\n",
       "\n",
       "    .dataframe thead th {\n",
       "        text-align: right;\n",
       "    }\n",
       "</style>\n",
       "<table border=\"1\" class=\"dataframe\">\n",
       "  <thead>\n",
       "    <tr style=\"text-align: right;\">\n",
       "      <th></th>\n",
       "      <th>num_preg</th>\n",
       "      <th>glucose_conc</th>\n",
       "      <th>diastolic_bp</th>\n",
       "      <th>skin_thickness</th>\n",
       "      <th>insulin</th>\n",
       "      <th>bmi</th>\n",
       "      <th>diab_pred</th>\n",
       "      <th>age</th>\n",
       "      <th>diabetes</th>\n",
       "    </tr>\n",
       "  </thead>\n",
       "  <tbody>\n",
       "    <tr>\n",
       "      <th>0</th>\n",
       "      <td>6</td>\n",
       "      <td>148</td>\n",
       "      <td>72</td>\n",
       "      <td>35</td>\n",
       "      <td>0</td>\n",
       "      <td>33.6</td>\n",
       "      <td>0.627</td>\n",
       "      <td>50</td>\n",
       "      <td>1</td>\n",
       "    </tr>\n",
       "    <tr>\n",
       "      <th>1</th>\n",
       "      <td>1</td>\n",
       "      <td>85</td>\n",
       "      <td>66</td>\n",
       "      <td>29</td>\n",
       "      <td>0</td>\n",
       "      <td>26.6</td>\n",
       "      <td>0.351</td>\n",
       "      <td>31</td>\n",
       "      <td>0</td>\n",
       "    </tr>\n",
       "    <tr>\n",
       "      <th>2</th>\n",
       "      <td>8</td>\n",
       "      <td>183</td>\n",
       "      <td>64</td>\n",
       "      <td>0</td>\n",
       "      <td>0</td>\n",
       "      <td>23.3</td>\n",
       "      <td>0.672</td>\n",
       "      <td>32</td>\n",
       "      <td>1</td>\n",
       "    </tr>\n",
       "    <tr>\n",
       "      <th>3</th>\n",
       "      <td>1</td>\n",
       "      <td>89</td>\n",
       "      <td>66</td>\n",
       "      <td>23</td>\n",
       "      <td>94</td>\n",
       "      <td>28.1</td>\n",
       "      <td>0.167</td>\n",
       "      <td>21</td>\n",
       "      <td>0</td>\n",
       "    </tr>\n",
       "    <tr>\n",
       "      <th>4</th>\n",
       "      <td>0</td>\n",
       "      <td>137</td>\n",
       "      <td>40</td>\n",
       "      <td>35</td>\n",
       "      <td>168</td>\n",
       "      <td>43.1</td>\n",
       "      <td>2.288</td>\n",
       "      <td>33</td>\n",
       "      <td>1</td>\n",
       "    </tr>\n",
       "  </tbody>\n",
       "</table>\n",
       "</div>"
      ],
      "text/plain": [
       "   num_preg  glucose_conc  diastolic_bp  skin_thickness  insulin   bmi  \\\n",
       "0         6           148            72              35        0  33.6   \n",
       "1         1            85            66              29        0  26.6   \n",
       "2         8           183            64               0        0  23.3   \n",
       "3         1            89            66              23       94  28.1   \n",
       "4         0           137            40              35      168  43.1   \n",
       "\n",
       "   diab_pred  age  diabetes  \n",
       "0      0.627   50         1  \n",
       "1      0.351   31         0  \n",
       "2      0.672   32         1  \n",
       "3      0.167   21         0  \n",
       "4      2.288   33         1  "
      ]
     },
     "execution_count": 28,
     "metadata": {},
     "output_type": "execute_result"
    }
   ],
   "source": [
    "#Printing the first five examples\n",
    "dataset.head()"
   ]
  },
  {
   "cell_type": "code",
   "execution_count": 29,
   "metadata": {},
   "outputs": [
    {
     "data": {
      "text/plain": [
       "num_preg          0\n",
       "glucose_conc      0\n",
       "diastolic_bp      0\n",
       "skin_thickness    0\n",
       "insulin           0\n",
       "bmi               0\n",
       "diab_pred         0\n",
       "age               0\n",
       "diabetes          0\n",
       "dtype: int64"
      ]
     },
     "execution_count": 29,
     "metadata": {},
     "output_type": "execute_result"
    }
   ],
   "source": [
    "#Checking if the data contains any null/vacant values\n",
    "dataset.isnull().sum()"
   ]
  },
  {
   "cell_type": "code",
   "execution_count": 30,
   "metadata": {},
   "outputs": [],
   "source": [
    "def plot_corr(dataset, size=11):\n",
    "    \"\"\"\n",
    "    Function plots a graphical correlation matrix for each pair of columns in the dataframe.\n",
    "\n",
    "    Input:\n",
    "        dataset: pandas DataFrame\n",
    "        size: vertical and horizontal size of the plot\n",
    "\n",
    "    Displays:\n",
    "        matrix of correlation between columns.  Blue-cyan-yellow-red-darkred => less to more correlated\n",
    "                                                0 ------------------>  1\n",
    "                                                \n",
    "    \"\"\"\n",
    "\n",
    "    corr = dataset.corr()    # data frame correlation function\n",
    "    fig, ax = plt.subplots(figsize=(size, size))\n",
    "    ax.matshow(corr)   # color code the rectangles by correlation value\n",
    "    plt.xticks(range(len(corr.columns)), corr.columns)  # draw x tick marks\n",
    "    plt.yticks(range(len(corr.columns)), corr.columns)  # draw y tick marks\n"
   ]
  },
  {
   "cell_type": "code",
   "execution_count": 31,
   "metadata": {},
   "outputs": [
    {
     "data": {
      "image/png": "[encoded data removed]",
      "text/plain": [
       "<Figure size 792x792 with 1 Axes>"
      ]
     },
     "metadata": {
      "needs_background": "light"
     },
     "output_type": "display_data"
    }
   ],
   "source": [
    "plot_corr(dataset,11)"
   ]
  },
  {
   "cell_type": "code",
   "execution_count": 32,
   "metadata": {},
   "outputs": [
    {
     "data": {
      "text/html": [
       "<div>\n",
       "<style scoped>\n",
       "    .dataframe tbody tr th:only-of-type {\n",
       "        vertical-align: middle;\n",
       "    }\n",
       "\n",
       "    .dataframe tbody tr th {\n",
       "        vertical-align: top;\n",
       "    }\n",
       "\n",
       "    .dataframe thead th {\n",
       "        text-align: right;\n",
       "    }\n",
       "</style>\n",
       "<table border=\"1\" class=\"dataframe\">\n",
       "  <thead>\n",
       "    <tr style=\"text-align: right;\">\n",
       "      <th></th>\n",
       "      <th>num_preg</th>\n",
       "      <th>glucose_conc</th>\n",
       "      <th>diastolic_bp</th>\n",
       "      <th>skin_thickness</th>\n",
       "      <th>insulin</th>\n",
       "      <th>bmi</th>\n",
       "      <th>diab_pred</th>\n",
       "      <th>age</th>\n",
       "      <th>diabetes</th>\n",
       "    </tr>\n",
       "  </thead>\n",
       "  <tbody>\n",
       "    <tr>\n",
       "      <th>num_preg</th>\n",
       "      <td>1.000000</td>\n",
       "      <td>0.129459</td>\n",
       "      <td>0.141282</td>\n",
       "      <td>-0.081672</td>\n",
       "      <td>-0.073535</td>\n",
       "      <td>0.017683</td>\n",
       "      <td>-0.033523</td>\n",
       "      <td>0.544341</td>\n",
       "      <td>0.221898</td>\n",
       "    </tr>\n",
       "    <tr>\n",
       "      <th>glucose_conc</th>\n",
       "      <td>0.129459</td>\n",
       "      <td>1.000000</td>\n",
       "      <td>0.152590</td>\n",
       "      <td>0.057328</td>\n",
       "      <td>0.331357</td>\n",
       "      <td>0.221071</td>\n",
       "      <td>0.137337</td>\n",
       "      <td>0.263514</td>\n",
       "      <td>0.466581</td>\n",
       "    </tr>\n",
       "    <tr>\n",
       "      <th>diastolic_bp</th>\n",
       "      <td>0.141282</td>\n",
       "      <td>0.152590</td>\n",
       "      <td>1.000000</td>\n",
       "      <td>0.207371</td>\n",
       "      <td>0.088933</td>\n",
       "      <td>0.281805</td>\n",
       "      <td>0.041265</td>\n",
       "      <td>0.239528</td>\n",
       "      <td>0.065068</td>\n",
       "    </tr>\n",
       "    <tr>\n",
       "      <th>skin_thickness</th>\n",
       "      <td>-0.081672</td>\n",
       "      <td>0.057328</td>\n",
       "      <td>0.207371</td>\n",
       "      <td>1.000000</td>\n",
       "      <td>0.436783</td>\n",
       "      <td>0.392573</td>\n",
       "      <td>0.183928</td>\n",
       "      <td>-0.113970</td>\n",
       "      <td>0.074752</td>\n",
       "    </tr>\n",
       "    <tr>\n",
       "      <th>insulin</th>\n",
       "      <td>-0.073535</td>\n",
       "      <td>0.331357</td>\n",
       "      <td>0.088933</td>\n",
       "      <td>0.436783</td>\n",
       "      <td>1.000000</td>\n",
       "      <td>0.197859</td>\n",
       "      <td>0.185071</td>\n",
       "      <td>-0.042163</td>\n",
       "      <td>0.130548</td>\n",
       "    </tr>\n",
       "    <tr>\n",
       "      <th>bmi</th>\n",
       "      <td>0.017683</td>\n",
       "      <td>0.221071</td>\n",
       "      <td>0.281805</td>\n",
       "      <td>0.392573</td>\n",
       "      <td>0.197859</td>\n",
       "      <td>1.000000</td>\n",
       "      <td>0.140647</td>\n",
       "      <td>0.036242</td>\n",
       "      <td>0.292695</td>\n",
       "    </tr>\n",
       "    <tr>\n",
       "      <th>diab_pred</th>\n",
       "      <td>-0.033523</td>\n",
       "      <td>0.137337</td>\n",
       "      <td>0.041265</td>\n",
       "      <td>0.183928</td>\n",
       "      <td>0.185071</td>\n",
       "      <td>0.140647</td>\n",
       "      <td>1.000000</td>\n",
       "      <td>0.033561</td>\n",
       "      <td>0.173844</td>\n",
       "    </tr>\n",
       "    <tr>\n",
       "      <th>age</th>\n",
       "      <td>0.544341</td>\n",
       "      <td>0.263514</td>\n",
       "      <td>0.239528</td>\n",
       "      <td>-0.113970</td>\n",
       "      <td>-0.042163</td>\n",
       "      <td>0.036242</td>\n",
       "      <td>0.033561</td>\n",
       "      <td>1.000000</td>\n",
       "      <td>0.238356</td>\n",
       "    </tr>\n",
       "    <tr>\n",
       "      <th>diabetes</th>\n",
       "      <td>0.221898</td>\n",
       "      <td>0.466581</td>\n",
       "      <td>0.065068</td>\n",
       "      <td>0.074752</td>\n",
       "      <td>0.130548</td>\n",
       "      <td>0.292695</td>\n",
       "      <td>0.173844</td>\n",
       "      <td>0.238356</td>\n",
       "      <td>1.000000</td>\n",
       "    </tr>\n",
       "  </tbody>\n",
       "</table>\n",
       "</div>"
      ],
      "text/plain": [
       "                num_preg  glucose_conc  diastolic_bp  skin_thickness  \\\n",
       "num_preg        1.000000      0.129459      0.141282       -0.081672   \n",
       "glucose_conc    0.129459      1.000000      0.152590        0.057328   \n",
       "diastolic_bp    0.141282      0.152590      1.000000        0.207371   \n",
       "skin_thickness -0.081672      0.057328      0.207371        1.000000   \n",
       "insulin        -0.073535      0.331357      0.088933        0.436783   \n",
       "bmi             0.017683      0.221071      0.281805        0.392573   \n",
       "diab_pred      -0.033523      0.137337      0.041265        0.183928   \n",
       "age             0.544341      0.263514      0.239528       -0.113970   \n",
       "diabetes        0.221898      0.466581      0.065068        0.074752   \n",
       "\n",
       "                 insulin       bmi  diab_pred       age  diabetes  \n",
       "num_preg       -0.073535  0.017683  -0.033523  0.544341  0.221898  \n",
       "glucose_conc    0.331357  0.221071   0.137337  0.263514  0.466581  \n",
       "diastolic_bp    0.088933  0.281805   0.041265  0.239528  0.065068  \n",
       "skin_thickness  0.436783  0.392573   0.183928 -0.113970  0.074752  \n",
       "insulin         1.000000  0.197859   0.185071 -0.042163  0.130548  \n",
       "bmi             0.197859  1.000000   0.140647  0.036242  0.292695  \n",
       "diab_pred       0.185071  0.140647   1.000000  0.033561  0.173844  \n",
       "age            -0.042163  0.036242   0.033561  1.000000  0.238356  \n",
       "diabetes        0.130548  0.292695   0.173844  0.238356  1.000000  "
      ]
     },
     "execution_count": 32,
     "metadata": {},
     "output_type": "execute_result"
    }
   ],
   "source": [
    "dataset.corr()"
   ]
  },
  {
   "cell_type": "markdown",
   "metadata": {},
   "source": [
    "Because there are no two elements having a higher coorelation, we can keep the features"
   ]
  },
  {
   "cell_type": "code",
   "execution_count": 33,
   "metadata": {},
   "outputs": [
    {
     "name": "stdout",
     "output_type": "stream",
     "text": [
      "Number of True cases:  268 (34.90%)\n",
      "Number of False cases: 500 (65.10%)\n"
     ]
    }
   ],
   "source": [
    "num_obs = len(dataset)\n",
    "num_true = len(dataset.loc[dataset['diabetes'] == 1])\n",
    "num_false = len(dataset.loc[dataset['diabetes'] == 0])\n",
    "print(\"Number of True cases:  {0} ({1:2.2f}%)\".format(num_true, ((1.00 * num_true)/(1.0 * num_obs)) * 100))\n",
    "print(\"Number of False cases: {0} ({1:2.2f}%)\".format(num_false, (( 1.0 * num_false)/(1.0 * num_obs)) * 100))"
   ]
  },
  {
   "cell_type": "code",
   "execution_count": 34,
   "metadata": {},
   "outputs": [],
   "source": [
    "# Splitting the dataset into the Training set and Test set\n",
    "from sklearn.model_selection import train_test_split\n",
    "X_train, X_test, y_train, y_test = train_test_split(X, y, test_size = 0.2, random_state = 42)"
   ]
  },
  {
   "cell_type": "markdown",
   "metadata": {},
   "source": [
    "Check to ensure we have done the correct splitting"
   ]
  },
  {
   "cell_type": "code",
   "execution_count": 35,
   "metadata": {},
   "outputs": [
    {
     "name": "stdout",
     "output_type": "stream",
     "text": [
      "79.95% in training set\n",
      "20.05% in test set\n"
     ]
    }
   ],
   "source": [
    "trainval = (1.0 * len(X_train)) / (1.0 * len(dataset.index))\n",
    "testval = (1.0 * len(X_test)) / (1.0 * len(dataset.index))\n",
    "print(\"{0:0.2f}% in training set\".format(trainval * 100))\n",
    "print(\"{0:0.2f}% in test set\".format(testval * 100))"
   ]
  },
  {
   "cell_type": "code",
   "execution_count": 36,
   "metadata": {},
   "outputs": [],
   "source": [
    "# Feature Scaling\n",
    "from sklearn.preprocessing import StandardScaler\n",
    "sc = StandardScaler()\n",
    "X_train = sc.fit_transform(X_train)\n",
    "X_test = sc.transform(X_test)"
   ]
  },
  {
   "cell_type": "code",
   "execution_count": 37,
   "metadata": {},
   "outputs": [
    {
     "name": "stdout",
     "output_type": "stream",
     "text": [
      "{'learning_rate': 0.05, 'max_depth': 3, 'max_features': 0.5}\n",
      "0.841\n"
     ]
    }
   ],
   "source": [
    "# Parameter evaluation with GSC validation\n",
    "gbe = GradientBoostingClassifier(random_state=42)\n",
    "parameters={'learning_rate': [0.05, 0.1, 0.5],\n",
    "            'max_features': [0.5, 1],\n",
    "            'max_depth': [3, 4, 5]\n",
    "}\n",
    "gridsearch=GridSearchCV(gbe, parameters, cv=100, scoring='roc_auc')\n",
    "gridsearch.fit(X, y)\n",
    "print(gridsearch.best_params_)\n",
    "print(gridsearch.best_score_)"
   ]
  },
  {
   "cell_type": "code",
   "execution_count": 38,
   "metadata": {},
   "outputs": [
    {
     "name": "stdout",
     "output_type": "stream",
     "text": [
      "Accuracy on training set: 0.882\n",
      "Accuracy on test set: 0.750\n"
     ]
    }
   ],
   "source": [
    "# Adjusting development threshold\n",
    "gbi = GradientBoostingClassifier(learning_rate=0.05, max_depth=3,\n",
    "                                 max_features=0.5,\n",
    "                                 random_state=42)\n",
    "X_train,X_test,y_train, y_test = train_test_split(X, y, random_state=42)\n",
    "gbi.fit(X_train, y_train)\n",
    "print(\"Accuracy on training set: {:.3f}\".format(gbi.score(X_train, y_train)))\n",
    "print(\"Accuracy on test set: {:.3f}\".format(gbi.score(X_test, y_test)))"
   ]
  },
  {
   "cell_type": "code",
   "execution_count": 39,
   "metadata": {},
   "outputs": [],
   "source": [
    "# Storing the prediction\n",
    "y_pred = gbi.predict_proba(X_test)[:,1]"
   ]
  },
  {
   "cell_type": "code",
   "execution_count": 40,
   "metadata": {},
   "outputs": [
    {
     "name": "stdout",
     "output_type": "stream",
     "text": [
      "TN - True Negative 96\n",
      "FP - False Positive 27\n",
      "FN - False Negative 21\n",
      "TP - True Positive 48\n",
      "Accuracy Rate: 0.75\n",
      "Misclassification Rate: 0.25\n"
     ]
    }
   ],
   "source": [
    "# Making the Confusion Matrix\n",
    "from sklearn.metrics import classification_report, confusion_matrix\n",
    "cm = confusion_matrix(y_test, y_pred.round())\n",
    "\n",
    "print('TN - True Negative {}'.format(cm[0,0]))\n",
    "print('FP - False Positive {}'.format(cm[0,1]))\n",
    "print('FN - False Negative {}'.format(cm[1,0]))\n",
    "print('TP - True Positive {}'.format(cm[1,1]))\n",
    "print('Accuracy Rate: {}'.format(np.divide(np.sum([cm[0,0],cm[1,1]]),np.sum(cm))))\n",
    "print('Misclassification Rate: {}'.format(np.divide(np.sum([cm[0,1],cm[1,0]]),np.sum(cm))))"
   ]
  },
  {
   "cell_type": "code",
   "execution_count": 41,
   "metadata": {},
   "outputs": [
    {
     "data": {
      "image/png": "[encoded data removed]",
      "text/plain": [
       "<Figure size 432x288 with 2 Axes>"
      ]
     },
     "metadata": {
      "needs_background": "light"
     },
     "output_type": "display_data"
    }
   ],
   "source": [
    "from sklearn.metrics import plot_confusion_matrix\n",
    "disp = plot_confusion_matrix(gbi, X_test, y_test,cmap=plt.cm.Blues)\n",
    "plt.show()"
   ]
  },
  {
   "cell_type": "code",
   "execution_count": 42,
   "metadata": {},
   "outputs": [],
   "source": [
    "import pickle\n",
    "pickle.dump(gbi, open(\"diabetes_prediction.pickle\", \"wb\"))"
   ]
  },
  {
   "cell_type": "code",
   "execution_count": 43,
   "metadata": {},
   "outputs": [],
   "source": [
    "from tkinter import*\n",
    "from PIL import ImageTk, Image"
   ]
  },
  {
   "cell_type": "code",
   "execution_count": 49,
   "metadata": {},
   "outputs": [],
   "source": [
    "root=Tk()\n",
    "\n",
    "root.geometry(\"900x900\")\n",
    "\n",
    "root.configure(background=\"light blue\")\n",
    "def gbimodel(num_preg,glucose_conc,diastolic_bp,skin_thickness,insulin,bmi,diab_pred,age):\n",
    "    loaded_model = pickle.load(open(\"diabetes_prediction.pickle\", \"rb\"))\n",
    "    y_pred = loaded_model.predict([[num_preg,glucose_conc,diastolic_bp,skin_thickness,insulin,bmi,diab_pred,age]])  #order important\n",
    "    if y_pred == [0]:\n",
    "        notif1.configure(text=\"The patient does not have diabetes\")\n",
    "    \n",
    "    else:\n",
    "        notif1.configure(text=\"The patient has diabetes\")\n",
    "\n",
    "#Exit App\n",
    "def exit_app():\n",
    "    root.destroy()\n",
    "        \n",
    "Head1 = Label(root, text=\"AIS Solutions PVT LTD\", font=('Trebuchet MS',30,\"bold\",\"underline\")).pack(pady = (10,0))\n",
    "\n",
    "Head2 = Label(root,text=\"Diabetes Prediction\",font=('Helvetica',25,'bold'),relief=\"solid\").pack(pady=(20,0))\n",
    "\n",
    "Head3 = Label(root,text=\"Please enter the patient information\",font=('Helvetica',25,'bold'),relief=\"solid\").pack(pady=(30,0))\n",
    "\n",
    "num_preg=Label(root,text=\"Number of Pregnancies\",font=('Helvetica',10,'bold'),bg=\"white\",relief=\"solid\",width=40).place(x=40,y=220)\n",
    "num_preg_input=Entry(root,bd=1,width=\"30\",font=(\"Arial sans MS\",14))\n",
    "num_preg_input.place(x=440,y=220)\n",
    "\n",
    "glucose_conc=Label(root,text=\"Glucose Concentration (50-200 mg/dL)\",font=('Helvetica',10,'bold'),bg=\"white\",relief=\"solid\",width=40).place(x=40,y=260)\n",
    "glucose_conc_input=Entry(root,bd=1,width=\"30\",font=(\"Arial sans MS\",14))\n",
    "glucose_conc_input.place(x=440,y=260)\n",
    "\n",
    "diastolic_bp=Label(root,text=\"Blood Pressure (40-150 mm Hg)\",font=('Helvetica',10,'bold'),bg=\"white\",relief=\"solid\",width=40).place(x=40,y=320)\n",
    "diastolic_bp_input=Entry(root,bd=1,width=\"30\",font=(\"Arial sans MS\",14))\n",
    "diastolic_bp_input.place(x=440,y=320)\n",
    "\n",
    "skin_thickness=Label(root,text=\"Skin Thickness (10-90 mu/m^2)\",font=('Helvetica',10,'bold'),bg=\"white\",relief=\"solid\",width=40).place(x=40,y=360)\n",
    "skin_thickness_input=Entry(root,bd=1,width=\"30\",font=(\"Arial sans MS\",14))\n",
    "skin_thickness_input.place(x=440,y=360)\n",
    "\n",
    "insulin=Label(root,text=\"Insulin (0-1153 pmol/L)\",font=('Helvetica',10,'bold'),bg=\"white\",relief=\"solid\",width=40).place(x=40,y=400)\n",
    "insulin_input=Entry(root,bd=1,width=\"30\",font=(\"Arial sans MS\",14))\n",
    "insulin_input.place(x=440,y=400)\n",
    "\n",
    "bmi=Label(root,text=\"BMI (17-60 kg/m^2)\",font=('Helvetica',10,'bold'),bg=\"white\",relief=\"solid\",width=40).place(x=40,y=440)\n",
    "bmi_input=Entry(root,bd=1,width=\"30\",font=(\"Arial sans MS\",14))\n",
    "bmi_input.place(x=440,y=440)\n",
    "\n",
    "diab_pred=Label(root,text=\"DiabetesPedigreeFunction (0.000-1.200)\",font=('Helvetica',10,'bold'),bg=\"white\",relief=\"solid\",width=40).place(x=40,y=480)\n",
    "diab_pred_input=Entry(root,bd=1,width=\"30\",font=(\"Arial sans MS\",14))\n",
    "diab_pred_input.place(x=440,y=480)\n",
    "\n",
    "age=Label(root,text=\"Age\",font=('Helvetica',10,'bold'),bg=\"white\",relief=\"solid\",width=40).place(x=40,y=520)\n",
    "age_input=Entry(root,bd=1,width=\"30\",font=(\"Arial sans MS\",14))\n",
    "age_input.place(x=440,y=520)\n",
    "\n",
    "\n",
    "but1 = Button(root,text=\"Predict\",width=\"50\", height=\"2\",command=lambda: gbimodel(num_preg_input.get(),glucose_conc_input.get(),diastolic_bp_input.get(),skin_thickness_input.get(),insulin_input.get(),bmi_input.get(),diab_pred_input.get(),age_input.get()))\n",
    "\n",
    "button_exit = Button(root, text = \"Exit\", width=\"15\", height=\"1\", command = exit_app) \n",
    "\n",
    "notif1 = Label(root, text=\"\",font=(\"Arial sans MS\",14,\"bold\"))\n",
    "\n",
    "but1.pack(pady=(400,0))\n",
    "\n",
    "button_exit.pack(pady=(100,0))\n",
    "notif1.place(x=300,y=690)\n",
    "root.resizable(0,0)\n",
    "root.mainloop()"
   ]
  },
  {
   "cell_type": "code",
   "execution_count": null,
   "metadata": {},
   "outputs": [],
   "source": []
  },
  {
   "cell_type": "code",
   "execution_count": null,
   "metadata": {},
   "outputs": [],
   "source": []
  }
 ],
 "metadata": {
  "kernelspec": {
   "display_name": "Python 3",
   "language": "python",
   "name": "python3"
  },
  "language_info": {
   "codemirror_mode": {
    "name": "ipython",
    "version": 3
   },
   "file_extension": ".py",
   "mimetype": "text/x-python",
   "name": "python",
   "nbconvert_exporter": "python",
   "pygments_lexer": "ipython3",
   "version": "3.8.3"
  }
 },
 "nbformat": 4,
 "nbformat_minor": 4
}
